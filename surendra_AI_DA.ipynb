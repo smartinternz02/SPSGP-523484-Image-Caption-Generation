{
 "cells": [
  {
   "cell_type": "code",
   "execution_count": 6,
   "id": "0f148283",
   "metadata": {},
   "outputs": [
    {
     "name": "stdout",
     "output_type": "stream",
     "text": [
      "Task 1: DataFrame 'df' with random values:\n",
      "          0         1         2         3\n",
      "0  0.496714 -0.138264  0.647689  1.523030\n",
      "1 -0.234153 -0.234137  1.579213  0.767435\n",
      "2 -0.469474  0.542560 -0.463418 -0.465730\n",
      "3  0.241962 -1.913280 -1.724918 -0.562288\n"
     ]
    }
   ],
   "source": [
    "import pandas as pd\n",
    "import numpy as np\n",
    "\n",
    "# Create a pandas dataframe with numpy random values\n",
    "np.random.seed(42)\n",
    "data = np.random.randn(4, 4)\n",
    "df = pd.DataFrame(data)\n",
    "\n",
    "print(\"Task 1: DataFrame 'df' with random values:\")\n",
    "print(df)\n"
   ]
  },
  {
   "cell_type": "code",
   "execution_count": 7,
   "id": "651b50ae",
   "metadata": {},
   "outputs": [
    {
     "name": "stdout",
     "output_type": "stream",
     "text": [
      "\n",
      " DataFrame column names renamed:\n",
      "Index(['Random value 1', 'Random value 2', 'Random value 3', 'Random value 4'], dtype='object')\n"
     ]
    }
   ],
   "source": [
    "# Task 2: Rename the dataframe column names\n",
    "df.columns = ['Random value 1', 'Random value 2', 'Random value 3', 'Random value 4']\n",
    "print(\"\\n DataFrame column names renamed:\")\n",
    "print(df.columns)"
   ]
  },
  {
   "cell_type": "code",
   "execution_count": 8,
   "id": "5f3be5f3",
   "metadata": {},
   "outputs": [
    {
     "name": "stdout",
     "output_type": "stream",
     "text": [
      "\n",
      " Descriptive statistics of 'df':\n",
      "       Random value 1  Random value 2  Random value 3  Random value 4\n",
      "count        4.000000        4.000000        4.000000        4.000000\n",
      "mean         0.008762       -0.435780        0.009641        0.315612\n",
      "std          0.439772        1.043924        1.426317        1.007175\n",
      "min         -0.469474       -1.913280       -1.724918       -0.562288\n",
      "25%         -0.292984       -0.653923       -0.778793       -0.489869\n",
      "50%          0.003904       -0.186201        0.092135        0.150852\n",
      "75%          0.305650        0.031942        0.880570        0.956334\n",
      "max          0.496714        0.542560        1.579213        1.523030\n"
     ]
    }
   ],
   "source": [
    "# Task 3: Descriptive statistics of the dataframe\n",
    "statistics = df.describe()\n",
    "print(\"\\n Descriptive statistics of 'df':\")\n",
    "print(statistics)\n"
   ]
  },
  {
   "cell_type": "code",
   "execution_count": 9,
   "id": "34e83604",
   "metadata": {},
   "outputs": [
    {
     "name": "stdout",
     "output_type": "stream",
     "text": [
      "\n",
      " Null values in 'df':\n",
      "Random value 1    0\n",
      "Random value 2    0\n",
      "Random value 3    0\n",
      "Random value 4    0\n",
      "dtype: int64\n",
      "\n",
      "Data types of columns in 'df':\n",
      "Random value 1    float64\n",
      "Random value 2    float64\n",
      "Random value 3    float64\n",
      "Random value 4    float64\n",
      "dtype: object\n"
     ]
    }
   ],
   "source": [
    "# Task 4: Check for null values and data types of columns\n",
    "null_values = df.isnull().sum()\n",
    "data_types = df.dtypes\n",
    "print(\"\\n Null values in 'df':\")\n",
    "print(null_values)\n",
    "print(\"\\nData types of columns in 'df':\")\n",
    "print(data_types)"
   ]
  },
  {
   "cell_type": "code",
   "execution_count": 11,
   "id": "074af12a",
   "metadata": {},
   "outputs": [
    {
     "name": "stdout",
     "output_type": "stream",
     "text": [
      "\n",
      " Displaying 'Random value 2' and 'Random value 3' columns:\n",
      "Using location method:\n",
      "0   -0.138264\n",
      "1   -0.234137\n",
      "2    0.542560\n",
      "3   -1.913280\n",
      "Name: Random value 2, dtype: float64\n",
      "0    0.647689\n",
      "1    1.579213\n",
      "2   -0.463418\n",
      "3   -1.724918\n",
      "Name: Random value 3, dtype: float64\n",
      "\n",
      "Using index location method:\n",
      "0   -0.138264\n",
      "1   -0.234137\n",
      "2    0.542560\n",
      "3   -1.913280\n",
      "Name: Random value 2, dtype: float64\n",
      "0    0.647689\n",
      "1    1.579213\n",
      "2   -0.463418\n",
      "3   -1.724918\n",
      "Name: Random value 3, dtype: float64\n"
     ]
    }
   ],
   "source": [
    "\n",
    "# Task 5: Display columns using location and index location method\n",
    "random_value_2_location = df.loc[:, 'Random value 2']\n",
    "random_value_3_location = df.loc[:, 'Random value 3']\n",
    "random_value_2_index = df.iloc[:, 1]\n",
    "random_value_3_index = df.iloc[:, 2]\n",
    "\n",
    "print(\"\\n Displaying 'Random value 2' and 'Random value 3' columns:\")\n",
    "print(\"Using location method:\")\n",
    "print(random_value_2_location)\n",
    "print(random_value_3_location)\n",
    "print(\"\\nUsing index location method:\")\n",
    "print(random_value_2_index)\n",
    "print(random_value_3_index)"
   ]
  },
  {
   "cell_type": "code",
   "execution_count": null,
   "id": "4695c69a",
   "metadata": {},
   "outputs": [],
   "source": []
  }
 ],
 "metadata": {
  "kernelspec": {
   "display_name": "Python 3 (ipykernel)",
   "language": "python",
   "name": "python3"
  },
  "language_info": {
   "codemirror_mode": {
    "name": "ipython",
    "version": 3
   },
   "file_extension": ".py",
   "mimetype": "text/x-python",
   "name": "python",
   "nbconvert_exporter": "python",
   "pygments_lexer": "ipython3",
   "version": "3.10.9"
  }
 },
 "nbformat": 4,
 "nbformat_minor": 5
}
